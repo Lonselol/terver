{
 "cells": [
  {
   "cell_type": "code",
   "execution_count": 7,
   "metadata": {},
   "outputs": [],
   "source": [
    "import numpy as np\n",
    "from scipy.stats import norm, t, chi2"
   ]
  },
  {
   "cell_type": "code",
   "execution_count": 8,
   "metadata": {},
   "outputs": [
    {
     "name": "stdout",
     "output_type": "stream",
     "text": [
      "Доверительный интервал для мат. ожидания при известной дисперсии: (2.5395603576683987, 4.360439642331602)\n",
      "Доверительный интервал для мат. ожидания при неизвестной дисперсии: (2.149457620859078, 4.7505423791409225)\n",
      "Доверительный интервал для дисперсии при неизвестном мат. ожидании: (3.9322640446292043, 16.240178734343957)\n",
      "Доверительный интервал для дисперсии при известном мат. ожидании: (4.024098440833786, 15.36132260393444)\n",
      "Доверительный интервал для разницы мат. ожиданий при известных дисперсиях: (-4.191074436567492, -1.7255922300991726)\n",
      "Доверительный интервал для разницы мат. ожиданий при неизвестных дисперсиях: (-4.552808424003393, -1.363858242663271)\n"
     ]
    }
   ],
   "source": [
    "# Первая выборка и параметры\n",
    "sample_x = np.array([1.8, 6.0, 4.6, 1.0, 2.8, 7.3, -0.9, 3.1, 6.5, 2.3])\n",
    "mu_x = 4\n",
    "sigma_x = 2\n",
    "n_x = len(sample_x)\n",
    "mean_x = np.mean(sample_x)\n",
    "std_x = np.std(sample_x, ddof=1)\n",
    "\n",
    "# Вторая выборка и параметры\n",
    "sample_y = np.array([4.8, 9.0, 7.6, 4.0, 5.8, 10.3, 2.1, 6.1, 9.5, 5.3, 5.6, 6.8])\n",
    "mu_y = 7\n",
    "sigma_y = 2\n",
    "n_y = len(sample_y)\n",
    "mean_y = np.mean(sample_y)\n",
    "std_y = np.std(sample_y, ddof=1)\n",
    "\n",
    "# Уровень доверия\n",
    "confidence_level = 0.85\n",
    "alpha = 1 - confidence_level\n",
    "z = norm.ppf(1 - alpha / 2)\n",
    "\n",
    "# 1. Доверительный интервал для мат. ожидания при известной дисперсии\n",
    "ci_mean_known = (mean_x - z * sigma_x / np.sqrt(n_x), mean_x + z * sigma_x / np.sqrt(n_x))\n",
    "\n",
    "# 2. Доверительный интервал для мат. ожидания при неизвестной дисперсии\n",
    "t_value_x = t.ppf(1 - alpha / 2, df=n_x - 1)\n",
    "ci_mean_unknown = (mean_x - t_value_x * std_x / np.sqrt(n_x), mean_x + t_value_x * std_x / np.sqrt(n_x))\n",
    "\n",
    "# 3. Доверительный интервал для дисперсии при неизвестном мат. ожидании\n",
    "chi2_lower = chi2.ppf(alpha / 2, df=n_x - 1)\n",
    "chi2_upper = chi2.ppf(1 - alpha / 2, df=n_x - 1)\n",
    "ci_var_unknown = ((n_x - 1) * std_x**2 / chi2_upper, (n_x - 1) * std_x**2 / chi2_lower)\n",
    "\n",
    "# 4. Доверительный интервал для дисперсии при известном мат. ожидании\n",
    "chi2_lower_known_mu = chi2.ppf(alpha / 2, df=n_x)\n",
    "chi2_upper_known_mu = chi2.ppf(1 - alpha / 2, df=n_x)\n",
    "ci_var_known_mu = (n_x * std_x**2 / chi2_upper_known_mu, n_x * std_x**2 / chi2_lower_known_mu)\n",
    "\n",
    "# 1. Доверительный интервал для разницы мат. ожиданий при известных дисперсиях\n",
    "ci_diff_means_known_vars = (mean_x - mean_y - z * np.sqrt(sigma_x**2 / n_x + sigma_y**2 / n_y),\n",
    "                            mean_x - mean_y + z * np.sqrt(sigma_x**2 / n_x + sigma_y**2 / n_y))\n",
    "\n",
    "# 2. Доверительный интервал для разницы мат. ожиданий при неизвестных дисперсиях\n",
    "s_p = np.sqrt(((n_x - 1) * std_x**2 + (n_y - 1) * std_y**2) / (n_x + n_y - 2))\n",
    "t_value_diff = t.ppf(1 - alpha / 2, df=n_x + n_y - 2)\n",
    "ci_diff_means_unknown_vars = (mean_x - mean_y - t_value_diff * s_p * np.sqrt(1 / n_x + 1 / n_y),\n",
    "                              mean_x - mean_y + t_value_diff * s_p * np.sqrt(1 / n_x + 1 / n_y))\n",
    "\n",
    "# Вывод результатов\n",
    "print(f\"Доверительный интервал для мат. ожидания при известной дисперсии: {ci_mean_known}\")\n",
    "print(f\"Доверительный интервал для мат. ожидания при неизвестной дисперсии: {ci_mean_unknown}\")\n",
    "print(f\"Доверительный интервал для дисперсии при неизвестном мат. ожидании: {ci_var_unknown}\")\n",
    "print(f\"Доверительный интервал для дисперсии при известном мат. ожидании: {ci_var_known_mu}\")\n",
    "print(f\"Доверительный интервал для разницы мат. ожиданий при известных дисперсиях: {ci_diff_means_known_vars}\")\n",
    "print(f\"Доверительный интервал для разницы мат. ожиданий при неизвестных дисперсиях: {ci_diff_means_unknown_vars}\")"
   ]
  }
 ],
 "metadata": {
  "kernelspec": {
   "display_name": "Python 3.11.0 ('.venv': venv)",
   "language": "python",
   "name": "python3"
  },
  "language_info": {
   "codemirror_mode": {
    "name": "ipython",
    "version": 3
   },
   "file_extension": ".py",
   "mimetype": "text/x-python",
   "name": "python",
   "nbconvert_exporter": "python",
   "pygments_lexer": "ipython3",
   "version": "3.11.0"
  },
  "orig_nbformat": 4,
  "vscode": {
   "interpreter": {
    "hash": "bf35e9fa69ad6cf4e2355ef4fdd4309c6c3aa4f6a3aed3294247fabb94461164"
   }
  }
 },
 "nbformat": 4,
 "nbformat_minor": 2
}
